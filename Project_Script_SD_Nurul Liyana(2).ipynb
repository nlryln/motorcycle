{
 "cells": [
  {
   "cell_type": "markdown",
   "metadata": {},
   "source": [
    "## Import libraries to use for webscrapping"
   ]
  },
  {
   "cell_type": "markdown",
   "metadata": {},
   "source": [
    "Will be using selenium to read for the motorycles main page includes scrapping the link in each page and beautifulsoup to scrape the data from each motorcyle profile page. "
   ]
  },
  {
   "cell_type": "code",
   "execution_count": 1,
   "metadata": {},
   "outputs": [],
   "source": [
    "import re\n",
    "import time\n",
    "import requests\n",
    "import pandas as pd\n",
    "from selenium import webdriver\n",
    "from bs4 import BeautifulSoup \n",
    "from selenium.webdriver.common.by import By\n",
    "from selenium.webdriver.chrome.options import Options\n",
    "from webdriver_manager.chrome import ChromeDriverManager"
   ]
  },
  {
   "cell_type": "markdown",
   "metadata": {},
   "source": [
    "Putting the path in a driver path and opens the web in a new chrome window. No page is shown as no url is given."
   ]
  },
  {
   "cell_type": "code",
   "execution_count": 2,
   "metadata": {},
   "outputs": [
    {
     "name": "stderr",
     "output_type": "stream",
     "text": [
      "/var/folders/bq/1n8bgy_57l74n18m4pnvpyj00000gn/T/ipykernel_18853/3677721619.py:7: DeprecationWarning: executable_path has been deprecated, please pass in a Service object\n",
      "  driver = webdriver.Chrome(ChromeDriverManager().install())\n"
     ]
    }
   ],
   "source": [
    "DRIVER_PATH = \"/path/to/chromedriver\"\n",
    "\n",
    "options = Options()\n",
    "options.headless = True\n",
    "options.add_argument(\"--window-size=1920,1200\")\n",
    "\n",
    "driver = webdriver.Chrome(ChromeDriverManager().install())"
   ]
  },
  {
   "attachments": {},
   "cell_type": "markdown",
   "metadata": {},
   "source": [
    "## CAROUSELL.SG"
   ]
  },
  {
   "attachments": {},
   "cell_type": "markdown",
   "metadata": {},
   "source": [
    "In Carousell.sg, it was a mixture of all types of bikes and it has many more compared to sgbikemart, so i had to split the links to firstly their make body type, and secondly to their bike range, (class 2b,2a,2)"
   ]
  },
  {
   "cell_type": "code",
   "execution_count": 17,
   "metadata": {},
   "outputs": [],
   "source": [
    "#sp for short of source page\n",
    "sp_Adventure      = ['https://www.carousell.sg/categories/motorcycles-for-sale-1592/class-2b-1595/?addRecent=false&canChangeKeyword=false&includeSuggestions=false&sc=0a0208301a0408bbe1722a360a1676656869636c655f6d6f746f7262696b655f74797065121a0a184d4f544f5242494b455f545950455f414456454e5455524578012a170a0b636f6c6c656374696f6e7312060a043135393578012a360a1676656869636c655f6d6f746f7262696b655f74797065121a0a184d4f544f5242494b455f545950455f414456454e5455524578013204080178013a02180742060801100118004a0620012801400150005a020801&searchId=k03RjG&sort_by=1&vehicle_motorbike_type=MOTORBIKE_TYPE_ADVENTURE',\n",
    "                    'https://www.carousell.sg/categories/motorcycles-for-sale-1592/class-2a-1594/?addRecent=false&canChangeKeyword=false&includeSuggestions=false&sc=0a0208301a0408bbe1722a360a1676656869636c655f6d6f746f7262696b655f74797065121a0a184d4f544f5242494b455f545950455f414456454e5455524578012a170a0b636f6c6c656374696f6e7312060a043135393478012a360a1676656869636c655f6d6f746f7262696b655f74797065121a0a184d4f544f5242494b455f545950455f414456454e5455524578013204080178013a02180742060801100118004a0620012801400150005a020801&searchId=xSErc5&sort_by=1&vehicle_motorbike_type=MOTORBIKE_TYPE_ADVENTURE',\n",
    "                    'https://www.carousell.sg/categories/motorcycles-for-sale-1592/class-2-1593/?addRecent=false&canChangeKeyword=false&includeSuggestions=false&sc=0a0208301a0408bbe1722a360a1676656869636c655f6d6f746f7262696b655f74797065121a0a184d4f544f5242494b455f545950455f414456454e5455524578012a170a0b636f6c6c656374696f6e7312060a043135393378012a360a1676656869636c655f6d6f746f7262696b655f74797065121a0a184d4f544f5242494b455f545950455f414456454e5455524578013204080178013a02180742060801100118004a0620012801400150005a020801&searchId=y0DJ8d&sort_by=1&vehicle_motorbike_type=MOTORBIKE_TYPE_ADVENTURE']\n",
    "sp_Cruiser        = ['https://www.carousell.sg/categories/motorcycles-for-sale-1592/class-2b-1595/?addRecent=false&canChangeKeyword=false&includeSuggestions=false&sc=0a0208301a0408bbe1722a340a1676656869636c655f6d6f746f7262696b655f7479706512180a164d4f544f5242494b455f545950455f4352554953455278012a170a0b636f6c6c656374696f6e7312060a043135393578012a340a1676656869636c655f6d6f746f7262696b655f7479706512180a164d4f544f5242494b455f545950455f4352554953455278013204080178013a02180742060801100118004a0620012801400150005a020801&searchId=A8cbZA&sort_by=1&vehicle_motorbike_type=MOTORBIKE_TYPE_CRUISER',\n",
    "                    'https://www.carousell.sg/categories/motorcycles-for-sale-1592/class-2a-1594/?addRecent=false&canChangeKeyword=false&includeSuggestions=false&sc=0a0208301a0408bbe1722a340a1676656869636c655f6d6f746f7262696b655f7479706512180a164d4f544f5242494b455f545950455f4352554953455278012a170a0b636f6c6c656374696f6e7312060a043135393478012a340a1676656869636c655f6d6f746f7262696b655f7479706512180a164d4f544f5242494b455f545950455f4352554953455278013204080178013a02180742060801100118004a0620012801400150005a020801&searchId=_ClcSJ&sort_by=1&vehicle_motorbike_type=MOTORBIKE_TYPE_CRUISER',\n",
    "                    'https://www.carousell.sg/categories/motorcycles-for-sale-1592/class-2-1593/?addRecent=false&canChangeKeyword=false&includeSuggestions=false&sc=0a0208301a0408bbe1722a340a1676656869636c655f6d6f746f7262696b655f7479706512180a164d4f544f5242494b455f545950455f4352554953455278012a170a0b636f6c6c656374696f6e7312060a043135393378012a340a1676656869636c655f6d6f746f7262696b655f7479706512180a164d4f544f5242494b455f545950455f4352554953455278013204080178013a02180742060801100118004a0620012801400150005a020801&searchId=XIhlAE&sort_by=1&vehicle_motorbike_type=MOTORBIKE_TYPE_CRUISER']\n",
    "sp_Cub            = ['https://www.carousell.sg/categories/motorcycles-for-sale-1592/class-2b-1595/?addRecent=false&canChangeKeyword=false&includeSuggestions=false&sc=0a0208301a0408bbe1722a300a1676656869636c655f6d6f746f7262696b655f7479706512140a124d4f544f5242494b455f545950455f43554278012a170a0b636f6c6c656374696f6e7312060a043135393578012a300a1676656869636c655f6d6f746f7262696b655f7479706512140a124d4f544f5242494b455f545950455f43554278013204080178013a02180742060801100118004a0620012801400150005a020801&searchId=c5ARbw&sort_by=1&vehicle_motorbike_type=MOTORBIKE_TYPE_CUB',\n",
    "                    'https://www.carousell.sg/categories/motorcycles-for-sale-1592/class-2a-1594/?addRecent=false&canChangeKeyword=false&includeSuggestions=false&sc=0a0208301a0408bbe1722a300a1676656869636c655f6d6f746f7262696b655f7479706512140a124d4f544f5242494b455f545950455f43554278012a170a0b636f6c6c656374696f6e7312060a043135393478012a300a1676656869636c655f6d6f746f7262696b655f7479706512140a124d4f544f5242494b455f545950455f43554278013204080178013a02180742060801100118004a0620012801400150005a020801&searchId=qQNjpf&sort_by=1&vehicle_motorbike_type=MOTORBIKE_TYPE_CUB',\n",
    "                    'https://www.carousell.sg/categories/motorcycles-for-sale-1592/class-2-1593/?addRecent=false&canChangeKeyword=false&includeSuggestions=false&sc=0a0208301a0408bbe1722a300a1676656869636c655f6d6f746f7262696b655f7479706512140a124d4f544f5242494b455f545950455f43554278012a170a0b636f6c6c656374696f6e7312060a043135393378012a300a1676656869636c655f6d6f746f7262696b655f7479706512140a124d4f544f5242494b455f545950455f43554278013204080178013a02180742060801100118004a0620012801400150005a020801&searchId=BhO5Bo&sort_by=1&vehicle_motorbike_type=MOTORBIKE_TYPE_CUB']\n",
    "sp_Enduro         = ['https://www.carousell.sg/categories/motorcycles-for-sale-1592/class-2b-1595/?addRecent=false&canChangeKeyword=false&includeSuggestions=false&sc=0a0208301a0408bbe1722a330a1676656869636c655f6d6f746f7262696b655f7479706512170a154d4f544f5242494b455f545950455f454e4455524f78012a170a0b636f6c6c656374696f6e7312060a043135393578012a330a1676656869636c655f6d6f746f7262696b655f7479706512170a154d4f544f5242494b455f545950455f454e4455524f78013204080178013a02180742060801100118004a0620012801400150005a020801&searchId=tKN0jq&sort_by=1&vehicle_motorbike_type=MOTORBIKE_TYPE_ENDURO',\n",
    "                    'https://www.carousell.sg/categories/motorcycles-for-sale-1592/class-2a-1594/?addRecent=false&canChangeKeyword=false&includeSuggestions=false&sc=0a0208301a0408bbe1722a330a1676656869636c655f6d6f746f7262696b655f7479706512170a154d4f544f5242494b455f545950455f454e4455524f78012a170a0b636f6c6c656374696f6e7312060a043135393478012a330a1676656869636c655f6d6f746f7262696b655f7479706512170a154d4f544f5242494b455f545950455f454e4455524f78013204080178013a02180742060801100118004a0620012801400150005a020801&searchId=pmEaUm&sort_by=1&vehicle_motorbike_type=MOTORBIKE_TYPE_ENDURO',\n",
    "                    'https://www.carousell.sg/categories/motorcycles-for-sale-1592/class-2-1593/?addRecent=false&canChangeKeyword=false&includeSuggestions=false&sc=0a0208301a0408bbe1722a330a1676656869636c655f6d6f746f7262696b655f7479706512170a154d4f544f5242494b455f545950455f454e4455524f78012a170a0b636f6c6c656374696f6e7312060a043135393378012a330a1676656869636c655f6d6f746f7262696b655f7479706512170a154d4f544f5242494b455f545950455f454e4455524f78013204080178013a02180742060801100118004a0620012801400150005a020801&searchId=c0jfTG&sort_by=1&vehicle_motorbike_type=MOTORBIKE_TYPE_ENDURO']\n",
    "sp_Road_Bike      = ['https://www.carousell.sg/categories/motorcycles-for-sale-1592/class-2b-1595/?addRecent=false&canChangeKeyword=false&includeSuggestions=false&sc=0a0208301a0408bbe1722a360a1676656869636c655f6d6f746f7262696b655f74797065121a0a184d4f544f5242494b455f545950455f524f41445f42494b4578012a170a0b636f6c6c656374696f6e7312060a043135393578012a360a1676656869636c655f6d6f746f7262696b655f74797065121a0a184d4f544f5242494b455f545950455f524f41445f42494b4578013204080178013a02180742060801100118004a0620012801400150005a020801&searchId=msThwD&sort_by=1&vehicle_motorbike_type=MOTORBIKE_TYPE_ROAD_BIKE',\n",
    "                    'https://www.carousell.sg/categories/motorcycles-for-sale-1592/class-2a-1594/?addRecent=false&canChangeKeyword=false&includeSuggestions=false&sc=0a0208301a0408bbe1722a360a1676656869636c655f6d6f746f7262696b655f74797065121a0a184d4f544f5242494b455f545950455f524f41445f42494b4578012a170a0b636f6c6c656374696f6e7312060a043135393478012a360a1676656869636c655f6d6f746f7262696b655f74797065121a0a184d4f544f5242494b455f545950455f524f41445f42494b4578013204080178013a02180742060801100118004a0620012801400150005a020801&searchId=HBSQEu&sort_by=1&vehicle_motorbike_type=MOTORBIKE_TYPE_ROAD_BIKE',\n",
    "                    'https://www.carousell.sg/categories/motorcycles-for-sale-1592/class-2-1593/?addRecent=false&canChangeKeyword=false&includeSuggestions=false&sc=0a0208301a0408bbe1722a360a1676656869636c655f6d6f746f7262696b655f74797065121a0a184d4f544f5242494b455f545950455f524f41445f42494b4578012a170a0b636f6c6c656374696f6e7312060a043135393378012a360a1676656869636c655f6d6f746f7262696b655f74797065121a0a184d4f544f5242494b455f545950455f524f41445f42494b4578013204080178013a02180742060801100118004a0620012801400150005a020801&searchId=itIXp0&sort_by=1&vehicle_motorbike_type=MOTORBIKE_TYPE_ROAD_BIKE']  \n",
    "sp_Motard         = ['https://www.carousell.sg/categories/motorcycles-for-sale-1592/class-2b-1595/?addRecent=false&canChangeKeyword=false&includeSuggestions=false&sc=0a0208301a0408bbe1722a330a1676656869636c655f6d6f746f7262696b655f7479706512170a154d4f544f5242494b455f545950455f4d4f5441524478012a170a0b636f6c6c656374696f6e7312060a043135393578012a330a1676656869636c655f6d6f746f7262696b655f7479706512170a154d4f544f5242494b455f545950455f4d4f5441524478013204080178013a02180742060801100118004a0620012801400150005a020801&searchId=PA9yIs&sort_by=1&vehicle_motorbike_type=MOTORBIKE_TYPE_MOTARD',\n",
    "                    'https://www.carousell.sg/categories/motorcycles-for-sale-1592/class-2a-1594/?addRecent=false&canChangeKeyword=false&includeSuggestions=false&sc=0a0208301a0408bbe1722a330a1676656869636c655f6d6f746f7262696b655f7479706512170a154d4f544f5242494b455f545950455f4d4f5441524478012a170a0b636f6c6c656374696f6e7312060a043135393478012a330a1676656869636c655f6d6f746f7262696b655f7479706512170a154d4f544f5242494b455f545950455f4d4f5441524478013204080178013a02180742060801100118004a0620012801400150005a020801&searchId=CwaXWS&sort_by=1&vehicle_motorbike_type=MOTORBIKE_TYPE_MOTARD',\n",
    "                    'https://www.carousell.sg/categories/motorcycles-for-sale-1592/class-2-1593/?addRecent=false&canChangeKeyword=false&includeSuggestions=false&sc=0a0208301a0408bbe1722a330a1676656869636c655f6d6f746f7262696b655f7479706512170a154d4f544f5242494b455f545950455f4d4f5441524478012a170a0b636f6c6c656374696f6e7312060a043135393378012a330a1676656869636c655f6d6f746f7262696b655f7479706512170a154d4f544f5242494b455f545950455f4d4f5441524478013204080178013a02180742060801100118004a0620012801400150005a020801&searchId=ljvRQI&sort_by=1&vehicle_motorbike_type=MOTORBIKE_TYPE_MOTARD']\n",
    "sp_Scooter        = ['https://www.carousell.sg/categories/motorcycles-for-sale-1592/class-2b-1595/?addRecent=false&canChangeKeyword=false&includeSuggestions=false&sc=0a0208301a0408bbe1722a340a1676656869636c655f6d6f746f7262696b655f7479706512180a164d4f544f5242494b455f545950455f53434f4f54455278012a170a0b636f6c6c656374696f6e7312060a043135393578012a340a1676656869636c655f6d6f746f7262696b655f7479706512180a164d4f544f5242494b455f545950455f53434f4f54455278013204080178013a02180742060801100118004a0620012801400150005a020801&searchId=M3RTqD&sort_by=1&vehicle_motorbike_type=MOTORBIKE_TYPE_SCOOTER',\n",
    "                    'https://www.carousell.sg/categories/motorcycles-for-sale-1592/class-2a-1594/?addRecent=false&canChangeKeyword=false&includeSuggestions=false&sc=0a0208301a0408bbe1722a340a1676656869636c655f6d6f746f7262696b655f7479706512180a164d4f544f5242494b455f545950455f53434f4f54455278012a170a0b636f6c6c656374696f6e7312060a043135393478012a340a1676656869636c655f6d6f746f7262696b655f7479706512180a164d4f544f5242494b455f545950455f53434f4f54455278013204080178013a02180742060801100118004a0620012801400150005a020801&searchId=97Frgr&sort_by=1&vehicle_motorbike_type=MOTORBIKE_TYPE_SCOOTER',\n",
    "                    'https://www.carousell.sg/categories/motorcycles-for-sale-1592/class-2-1593/?addRecent=false&canChangeKeyword=false&includeSuggestions=false&sc=0a0208301a0408bbe1722a340a1676656869636c655f6d6f746f7262696b655f7479706512180a164d4f544f5242494b455f545950455f53434f4f54455278012a170a0b636f6c6c656374696f6e7312060a043135393378012a340a1676656869636c655f6d6f746f7262696b655f7479706512180a164d4f544f5242494b455f545950455f53434f4f54455278013204080178013a02180742060801100118004a0620012801400150005a020801&searchId=CRTu4n&sort_by=1&vehicle_motorbike_type=MOTORBIKE_TYPE_SCOOTER']\n",
    "sp_Scrambler      = ['https://www.carousell.sg/categories/motorcycles-for-sale-1592/class-2b-1595/?addRecent=false&canChangeKeyword=false&includeSuggestions=false&sc=0a0208301a0408bbe1722a360a1676656869636c655f6d6f746f7262696b655f74797065121a0a184d4f544f5242494b455f545950455f534352414d424c455278012a170a0b636f6c6c656374696f6e7312060a043135393578012a360a1676656869636c655f6d6f746f7262696b655f74797065121a0a184d4f544f5242494b455f545950455f534352414d424c455278013204080178013a02180742060801100118004a0620012801400150005a020801&searchId=ItK_Z4&sort_by=1&vehicle_motorbike_type=MOTORBIKE_TYPE_SCRAMBLER',\n",
    "                    'https://www.carousell.sg/categories/motorcycles-for-sale-1592/class-2a-1594/?addRecent=false&canChangeKeyword=false&includeSuggestions=false&sc=0a0208301a0408bbe1722a360a1676656869636c655f6d6f746f7262696b655f74797065121a0a184d4f544f5242494b455f545950455f534352414d424c455278012a170a0b636f6c6c656374696f6e7312060a043135393478012a360a1676656869636c655f6d6f746f7262696b655f74797065121a0a184d4f544f5242494b455f545950455f534352414d424c455278013204080178013a02180742060801100118004a0620012801400150005a020801&searchId=Crx0Sx&sort_by=1&vehicle_motorbike_type=MOTORBIKE_TYPE_SCRAMBLER',\n",
    "                    'https://www.carousell.sg/categories/motorcycles-for-sale-1592/class-2-1593/?addRecent=false&canChangeKeyword=false&includeSuggestions=false&sc=0a0208301a0408bbe1722a360a1676656869636c655f6d6f746f7262696b655f74797065121a0a184d4f544f5242494b455f545950455f534352414d424c455278012a170a0b636f6c6c656374696f6e7312060a043135393378012a360a1676656869636c655f6d6f746f7262696b655f74797065121a0a184d4f544f5242494b455f545950455f534352414d424c455278013204080178013a02180742060801100118004a0620012801400150005a020801&searchId=qx2PC6&sort_by=1&vehicle_motorbike_type=MOTORBIKE_TYPE_SCRAMBLER']\n",
    "sp_Sports_Bike    = ['https://www.carousell.sg/categories/motorcycles-for-sale-1592/class-2b-1595/?addRecent=false&canChangeKeyword=false&includeSuggestions=false&sc=0a0208301a0408bbe1722a380a1676656869636c655f6d6f746f7262696b655f74797065121c0a1a4d4f544f5242494b455f545950455f53504f5254535f42494b4578012a170a0b636f6c6c656374696f6e7312060a043135393578012a380a1676656869636c655f6d6f746f7262696b655f74797065121c0a1a4d4f544f5242494b455f545950455f53504f5254535f42494b4578013204080178013a02180742060801100118004a0620012801400150005a020801&searchId=bn09eH&sort_by=1&vehicle_motorbike_type=MOTORBIKE_TYPE_SPORTS_BIKE',\n",
    "                    'https://www.carousell.sg/categories/motorcycles-for-sale-1592/class-2a-1594/?addRecent=false&canChangeKeyword=false&includeSuggestions=false&sc=0a0208301a0408bbe1722a380a1676656869636c655f6d6f746f7262696b655f74797065121c0a1a4d4f544f5242494b455f545950455f53504f5254535f42494b4578012a170a0b636f6c6c656374696f6e7312060a043135393478012a380a1676656869636c655f6d6f746f7262696b655f74797065121c0a1a4d4f544f5242494b455f545950455f53504f5254535f42494b4578013204080178013a02180742060801100118004a0620012801400150005a020801&searchId=2DvjdX&sort_by=1&vehicle_motorbike_type=MOTORBIKE_TYPE_SPORTS_BIKE',\n",
    "                    'https://www.carousell.sg/categories/motorcycles-for-sale-1592/class-2-1593/?addRecent=false&canChangeKeyword=false&includeSuggestions=false&sc=0a0208301a0408bbe1722a380a1676656869636c655f6d6f746f7262696b655f74797065121c0a1a4d4f544f5242494b455f545950455f53504f5254535f42494b4578012a170a0b636f6c6c656374696f6e7312060a043135393378012a380a1676656869636c655f6d6f746f7262696b655f74797065121c0a1a4d4f544f5242494b455f545950455f53504f5254535f42494b4578013204080178013a02180742060801100118004a0620012801400150005a020801&searchId=xs1_p4&sort_by=1&vehicle_motorbike_type=MOTORBIKE_TYPE_SPORTS_BIKE']\n",
    "sp_Sports_Tourer  = ['https://www.carousell.sg/categories/motorcycles-for-sale-1592/class-2b-1595/?addRecent=false&canChangeKeyword=false&includeSuggestions=false&sc=0a0208301a0408bbe1722a3a0a1676656869636c655f6d6f746f7262696b655f74797065121e0a1c4d4f544f5242494b455f545950455f53504f5254535f544f5552455278012a170a0b636f6c6c656374696f6e7312060a043135393578012a3a0a1676656869636c655f6d6f746f7262696b655f74797065121e0a1c4d4f544f5242494b455f545950455f53504f5254535f544f5552455278013204080178013a02180742060801100118004a0620012801400150005a020801&searchId=IPw3P1&sort_by=1&vehicle_motorbike_type=MOTORBIKE_TYPE_SPORTS_TOURER',\n",
    "                    'https://www.carousell.sg/categories/motorcycles-for-sale-1592/class-2a-1594/?addRecent=false&canChangeKeyword=false&includeSuggestions=false&sc=0a0208301a0408bbe1722a3a0a1676656869636c655f6d6f746f7262696b655f74797065121e0a1c4d4f544f5242494b455f545950455f53504f5254535f544f5552455278012a170a0b636f6c6c656374696f6e7312060a043135393478012a3a0a1676656869636c655f6d6f746f7262696b655f74797065121e0a1c4d4f544f5242494b455f545950455f53504f5254535f544f5552455278013204080178013a02180742060801100118004a0620012801400150005a020801&searchId=3ZSizt&sort_by=1&vehicle_motorbike_type=MOTORBIKE_TYPE_SPORTS_TOURER',\n",
    "                    'https://www.carousell.sg/categories/motorcycles-for-sale-1592/class-2-1593/?addRecent=false&canChangeKeyword=false&includeSuggestions=false&sc=0a0208301a0408bbe1722a3a0a1676656869636c655f6d6f746f7262696b655f74797065121e0a1c4d4f544f5242494b455f545950455f53504f5254535f544f5552455278012a170a0b636f6c6c656374696f6e7312060a043135393378012a3a0a1676656869636c655f6d6f746f7262696b655f74797065121e0a1c4d4f544f5242494b455f545950455f53504f5254535f544f5552455278013204080178013a02180742060801100118004a0620012801400150005a020801&searchId=3SKXeh&sort_by=1&vehicle_motorbike_type=MOTORBIKE_TYPE_SPORTS_TOURER']\n",
    "sp_Vintage        = ['https://www.carousell.sg/categories/motorcycles-for-sale-1592/class-2b-1595/?addRecent=false&canChangeKeyword=false&includeSuggestions=false&sc=0a0208301a0408bbe1722a340a1676656869636c655f6d6f746f7262696b655f7479706512180a164d4f544f5242494b455f545950455f56494e5441474578012a170a0b636f6c6c656374696f6e7312060a043135393578012a340a1676656869636c655f6d6f746f7262696b655f7479706512180a164d4f544f5242494b455f545950455f56494e5441474578013204080178013a02180742060801100118004a0620012801400150005a020801&searchId=cVn6Jn&sort_by=1&vehicle_motorbike_type=MOTORBIKE_TYPE_VINTAGE',\n",
    "                    'https://www.carousell.sg/categories/motorcycles-for-sale-1592/class-2a-1594/?addRecent=false&canChangeKeyword=false&includeSuggestions=false&sc=0a0208301a0408bbe1722a340a1676656869636c655f6d6f746f7262696b655f7479706512180a164d4f544f5242494b455f545950455f56494e5441474578012a170a0b636f6c6c656374696f6e7312060a043135393478012a340a1676656869636c655f6d6f746f7262696b655f7479706512180a164d4f544f5242494b455f545950455f56494e5441474578013204080178013a02180742060801100118004a0620012801400150005a020801&searchId=ZC6YyH&sort_by=1&vehicle_motorbike_type=MOTORBIKE_TYPE_VINTAGE',\n",
    "                    'https://www.carousell.sg/categories/motorcycles-for-sale-1592/class-2-1593/?addRecent=false&canChangeKeyword=false&includeSuggestions=false&sc=0a0208301a0408bbe1722a340a1676656869636c655f6d6f746f7262696b655f7479706512180a164d4f544f5242494b455f545950455f56494e5441474578012a170a0b636f6c6c656374696f6e7312060a043135393378012a340a1676656869636c655f6d6f746f7262696b655f7479706512180a164d4f544f5242494b455f545950455f56494e5441474578013204080178013a02180742060801100118004a0620012801400150005a020801&searchId=k4pqki&sort_by=1&vehicle_motorbike_type=MOTORBIKE_TYPE_VINTAGE']\n",
    "sp_Other          = ['https://www.carousell.sg/categories/motorcycles-for-sale-1592/class-2b-1595/?addRecent=false&canChangeKeyword=false&includeSuggestions=false&sc=0a0208301a0408bbe1722a320a1676656869636c655f6d6f746f7262696b655f7479706512160a144d4f544f5242494b455f545950455f4f5448455278012a170a0b636f6c6c656374696f6e7312060a043135393578012a320a1676656869636c655f6d6f746f7262696b655f7479706512160a144d4f544f5242494b455f545950455f4f5448455278013204080178013a02180742060801100118004a0620012801400150005a020801&searchId=8LgPaK&sort_by=1&vehicle_motorbike_type=MOTORBIKE_TYPE_OTHER',\n",
    "                    'https://www.carousell.sg/categories/motorcycles-for-sale-1592/class-2a-1594/?addRecent=false&canChangeKeyword=false&includeSuggestions=false&sc=0a0208301a0408bbe1722a320a1676656869636c655f6d6f746f7262696b655f7479706512160a144d4f544f5242494b455f545950455f4f5448455278012a170a0b636f6c6c656374696f6e7312060a043135393478012a320a1676656869636c655f6d6f746f7262696b655f7479706512160a144d4f544f5242494b455f545950455f4f5448455278013204080178013a02180742060801100118004a0620012801400150005a020801&searchId=nAxX24&sort_by=1&vehicle_motorbike_type=MOTORBIKE_TYPE_OTHER',\n",
    "                    'https://www.carousell.sg/categories/motorcycles-for-sale-1592/class-2-1593/?addRecent=false&canChangeKeyword=false&includeSuggestions=false&sc=0a0208301a0408bbe1722a320a1676656869636c655f6d6f746f7262696b655f7479706512160a144d4f544f5242494b455f545950455f4f5448455278012a170a0b636f6c6c656374696f6e7312060a043135393378012a320a1676656869636c655f6d6f746f7262696b655f7479706512160a144d4f544f5242494b455f545950455f4f5448455278013204080178013a02180742060801100118004a0620012801400150005a020801&searchId=Eh43Pv&sort_by=1&vehicle_motorbike_type=MOTORBIKE_TYPE_OTHER']\n",
    "\n",
    "body_list = [sp_Adventure,sp_Cruiser,sp_Cub,sp_Enduro,sp_Road_Bike,sp_Motard,sp_Scooter,sp_Scrambler,sp_Sports_Bike,sp_Sports_Tourer,sp_Vintage,sp_Other]\n",
    "body_name = ['Adventure','Cruiser','Cub','Enduro','Road Bike','Motard','Scooter','Scrambler','Sports Bike','Sports Tourer','Vintage','Other']\n",
    "class_name = ['Class 2B','Class 2A','Class 2']"
   ]
  },
  {
   "attachments": {},
   "cell_type": "markdown",
   "metadata": {},
   "source": [
    "Doing manually in finding the number of clicks to show more motorcycle profile. I can do a loop for this but it was taking so much of my time so i decided to create the number of clicks instead of having the conditions."
   ]
  },
  {
   "cell_type": "code",
   "execution_count": 23,
   "metadata": {},
   "outputs": [],
   "source": [
    "# c for short of clicks\n",
    "c_Adventure       = [2,2,6]\n",
    "c_Cruiser         = [1,0,5]\n",
    "c_Cub             = [10,0,0]\n",
    "c_Enduro          = [0,0,0]\n",
    "c_Road_Bike       = [16,8,10]\n",
    "c_Motard          = [0,1,1]\n",
    "c_Scooter         = [23,10,2]\n",
    "c_Scrambler       = [1,1,0]\n",
    "c_Sports_Bike     = [7,2,8]\n",
    "c_Sports_Tourer   = [0,0,5]\n",
    "c_Vintage         = [1,0,1]\n",
    "c_Other           = [5,1,1]\n",
    "clicks = c_Adventure + c_Cruiser + c_Cub + c_Enduro + c_Road_Bike + c_Motard + c_Scooter + c_Scrambler + c_Sports_Bike + c_Sports_Tourer + c_Vintage + c_Other"
   ]
  },
  {
   "cell_type": "code",
   "execution_count": 28,
   "metadata": {},
   "outputs": [],
   "source": [
    "motorcycle = []"
   ]
  },
  {
   "attachments": {},
   "cell_type": "markdown",
   "metadata": {},
   "source": [
    "Basic Functions for easy understanding what is happening in the loop, and will be needing it few times in this notebook."
   ]
  },
  {
   "cell_type": "code",
   "execution_count": 9,
   "metadata": {},
   "outputs": [],
   "source": [
    "def scroll_to_end():\n",
    "    driver.execute_script(\"window.scrollTo(0, document.body.scrollHeight);\")\n",
    "    time.sleep(3)\n",
    "\n",
    "def show_more_results():\n",
    "    button = driver.find_element(By.XPATH,'//*[@id=\"main\"]/div[1]/div/div[5]/main/div[1]/button')\n",
    "    button.click()\n",
    "    time.sleep(5)\n",
    "\n",
    "def go_to_page(clas):\n",
    "    driver.get(clas)\n",
    "    time.sleep(5)\n"
   ]
  },
  {
   "attachments": {},
   "cell_type": "markdown",
   "metadata": {},
   "source": [
    "- Scroll to the end of the page : scroll_to_end()\n",
    "\n",
    "- Clicked the 'next page' button : next_page():\n",
    "\n",
    "- Goes to the page that is given in the bracket() : go_to_page(clas):\n"
   ]
  },
  {
   "cell_type": "markdown",
   "metadata": {},
   "source": [
    "Created a for loop so i don't have to do it manually one by one on getting the links however this code can still be improve as whenever it goes to the next class or body type, I have to scroll to where the 'show more results' button is or else it'll show an error which said that button is not found."
   ]
  },
  {
   "cell_type": "code",
   "execution_count": 29,
   "metadata": {},
   "outputs": [
    {
     "name": "stdout",
     "output_type": "stream",
     "text": [
      "At page: Class 2B ( Body Type = Adventure )\n",
      "Number of clicks to show all: 2\n",
      "At page: Class 2A ( Body Type = Adventure )\n",
      "Number of clicks to show all: 2\n",
      "At page: Class 2 ( Body Type = Adventure )\n",
      "Number of clicks to show all: 6\n",
      "At page: Class 2B ( Body Type = Cruiser )\n",
      "Number of clicks to show all: 1\n",
      "At page: Class 2A ( Body Type = Cruiser )\n",
      "Number of clicks to show all: 0\n",
      "At page: Class 2 ( Body Type = Cruiser )\n",
      "Number of clicks to show all: 5\n",
      "At page: Class 2B ( Body Type = Cub )\n",
      "Number of clicks to show all: 10\n",
      "At page: Class 2A ( Body Type = Cub )\n",
      "Number of clicks to show all: 0\n",
      "At page: Class 2 ( Body Type = Cub )\n",
      "Number of clicks to show all: 0\n",
      "At page: Class 2B ( Body Type = Enduro )\n",
      "Number of clicks to show all: 0\n",
      "At page: Class 2A ( Body Type = Enduro )\n",
      "Number of clicks to show all: 0\n",
      "At page: Class 2 ( Body Type = Enduro )\n",
      "Number of clicks to show all: 0\n",
      "At page: Class 2B ( Body Type = Road Bike )\n",
      "Number of clicks to show all: 16\n",
      "At page: Class 2A ( Body Type = Road Bike )\n",
      "Number of clicks to show all: 8\n",
      "At page: Class 2 ( Body Type = Road Bike )\n",
      "Number of clicks to show all: 10\n",
      "At page: Class 2B ( Body Type = Motard )\n",
      "Number of clicks to show all: 0\n",
      "At page: Class 2A ( Body Type = Motard )\n",
      "Number of clicks to show all: 1\n",
      "At page: Class 2 ( Body Type = Motard )\n",
      "Number of clicks to show all: 1\n",
      "At page: Class 2B ( Body Type = Scooter )\n",
      "Number of clicks to show all: 23\n",
      "At page: Class 2A ( Body Type = Scooter )\n",
      "Number of clicks to show all: 10\n",
      "At page: Class 2 ( Body Type = Scooter )\n",
      "Number of clicks to show all: 2\n",
      "At page: Class 2B ( Body Type = Scrambler )\n",
      "Number of clicks to show all: 1\n",
      "At page: Class 2A ( Body Type = Scrambler )\n",
      "Number of clicks to show all: 1\n",
      "At page: Class 2 ( Body Type = Scrambler )\n",
      "Number of clicks to show all: 0\n",
      "At page: Class 2B ( Body Type = Sports Bike )\n",
      "Number of clicks to show all: 7\n",
      "At page: Class 2A ( Body Type = Sports Bike )\n",
      "Number of clicks to show all: 2\n",
      "At page: Class 2 ( Body Type = Sports Bike )\n",
      "Number of clicks to show all: 8\n",
      "At page: Class 2B ( Body Type = Sports Tourer )\n",
      "Number of clicks to show all: 0\n",
      "At page: Class 2A ( Body Type = Sports Tourer )\n",
      "Number of clicks to show all: 0\n",
      "At page: Class 2 ( Body Type = Sports Tourer )\n",
      "Number of clicks to show all: 5\n",
      "At page: Class 2B ( Body Type = Vintage )\n",
      "Number of clicks to show all: 1\n",
      "At page: Class 2A ( Body Type = Vintage )\n",
      "Number of clicks to show all: 0\n",
      "At page: Class 2 ( Body Type = Vintage )\n",
      "Number of clicks to show all: 1\n",
      "At page: Class 2B ( Body Type = Other )\n",
      "Number of clicks to show all: 5\n",
      "At page: Class 2A ( Body Type = Other )\n",
      "Number of clicks to show all: 1\n",
      "At page: Class 2 ( Body Type = Other )\n",
      "Number of clicks to show all: 1\n",
      "Total of 6973 items shown.\n"
     ]
    }
   ],
   "source": [
    "#For loop scraping links for body in class 2B,2A and 2\n",
    "count = 0\n",
    "body_num = 0\n",
    "for body in body_list: # 12 loops here\n",
    "    class_num = 0\n",
    "    for page in body: # 3 x 12 = 36 loops here\n",
    "        go_to_page(page)\n",
    "        print(\"At page:\",class_name[class_num],\"( Body Type =\",body_name[body_num],\")\")\n",
    "        scroll_to_end()\n",
    "        class_num += 1\n",
    "\n",
    "        if clicks[count] != 0:\n",
    "            for click in range(clicks[count]):\n",
    "                show_more_results()\n",
    "        print(f\"Number of clicks to show all: {clicks[count]}\")\n",
    "\n",
    "        time.sleep(3)\n",
    "        profile = driver.find_elements(By.CLASS_NAME,\"D_qi\")\n",
    "\n",
    "        txt = '/p/'\n",
    "        for link in profile:\n",
    "            href = link.get_attribute('href')\n",
    "            if txt in href:\n",
    "                motorcycle.append(href)\n",
    "   \n",
    "        count += 1\n",
    "    body_num += 1\n",
    "amount = int(len(motorcycle))\n",
    "print(f\"Total of {amount} items shown.\")"
   ]
  },
  {
   "cell_type": "markdown",
   "metadata": {},
   "source": [
    "I close and open a new chrome window so I won't get any error for 'TimeoutException'."
   ]
  },
  {
   "cell_type": "code",
   "execution_count": null,
   "metadata": {},
   "outputs": [],
   "source": [
    "driver.close()\n",
    "driver = webdriver.Chrome(ChromeDriverManager().install())"
   ]
  },
  {
   "cell_type": "code",
   "execution_count": 147,
   "metadata": {},
   "outputs": [],
   "source": [
    "to_extract = motorcycle"
   ]
  },
  {
   "cell_type": "code",
   "execution_count": 140,
   "metadata": {},
   "outputs": [],
   "source": [
    "go_to_page(motorcycle[0])\n"
   ]
  },
  {
   "cell_type": "code",
   "execution_count": 762,
   "metadata": {},
   "outputs": [
    {
     "data": {
      "text/plain": [
       "6931"
      ]
     },
     "execution_count": 762,
     "metadata": {},
     "output_type": "execute_result"
    }
   ],
   "source": [
    "len(motorcycle)"
   ]
  },
  {
   "cell_type": "markdown",
   "metadata": {},
   "source": [
    "Break the Motorcycle link list into 14 parts as the loop i created to scrape the data sometimes failed due to some listing had been deleted. I didnt create an 'if' condition for this kind of situations so I had to manually remove from the list, although it did help me keep track on what to delete."
   ]
  },
  {
   "cell_type": "code",
   "execution_count": 763,
   "metadata": {},
   "outputs": [],
   "source": [
    "part1 = to_extract[:501] #501\n",
    "part2 = to_extract[501:1001] #1001\n",
    "part3 = to_extract[1001:1501] #1501\n",
    "part4 = to_extract[1501:2001] #2001\n",
    "part5 = to_extract[2001:2501] #2501\n",
    "part6 = to_extract[2501:3001] #3001\n",
    "part7 = to_extract[3001:3501] #3501\n",
    "part8 = to_extract[3501:4001] #4001\n",
    "part9 = to_extract[4001:4501] #4501\n",
    "part10 = to_extract[4501:5001] #5001\n",
    "part11 = to_extract[5001:5501] #5501\n",
    "part12 = to_extract[5501:6001] #6001\n",
    "part13 = to_extract[6001:6501] #6501\n",
    "part14 = to_extract[6501:] # 6931\n",
    "\n"
   ]
  },
  {
   "cell_type": "markdown",
   "metadata": {},
   "source": [
    "I double check the link whenever they give No attributes error so i can use this link to remove from the list."
   ]
  },
  {
   "cell_type": "code",
   "execution_count": 761,
   "metadata": {},
   "outputs": [
    {
     "data": {
      "text/plain": [
       "'https://www.carousell.sg/p/cb-400-super-4-spec-3-1204018607/?t-id=RpqxvgmmWG_1671536591472&t-referrer_browse_type=categories&t-referrer_category_id=1594&t-referrer_page_type=category_browse&t-referrer_request_id=7NItv9csmquDtOKo&t-referrer_sort_by=&t-tap_index=16'"
      ]
     },
     "execution_count": 761,
     "metadata": {},
     "output_type": "execute_result"
    }
   ],
   "source": [
    "motorcycle[6783]"
   ]
  },
  {
   "cell_type": "markdown",
   "metadata": {},
   "source": [
    "I put my removing code here for everytime i want to remove the link i can get it just above it."
   ]
  },
  {
   "cell_type": "code",
   "execution_count": 760,
   "metadata": {},
   "outputs": [],
   "source": [
    "to_extract.remove('')"
   ]
  },
  {
   "cell_type": "markdown",
   "metadata": {},
   "source": [
    "The loop the is used to scrape the data."
   ]
  },
  {
   "cell_type": "code",
   "execution_count": 765,
   "metadata": {},
   "outputs": [
    {
     "name": "stdout",
     "output_type": "stream",
     "text": [
      "6783\n",
      "6784\n",
      "6785\n",
      "6786\n",
      "6787\n",
      "6788\n",
      "6789\n",
      "6790\n",
      "6791\n",
      "6792\n",
      "6793\n",
      "6794\n",
      "6795\n",
      "6796\n",
      "6797\n",
      "6798\n",
      "6799\n",
      "6800\n",
      "6801\n",
      "6802\n",
      "6803\n",
      "6804\n",
      "6805\n",
      "6806\n",
      "6807\n",
      "6808\n",
      "6809\n",
      "6810\n",
      "6811\n",
      "6812\n",
      "6813\n",
      "6814\n",
      "6815\n",
      "6816\n",
      "6817\n",
      "6818\n",
      "6819\n",
      "6820\n",
      "6821\n",
      "6822\n",
      "6823\n",
      "6824\n",
      "6825\n",
      "6826\n",
      "6827\n",
      "6828\n",
      "6829\n",
      "6830\n",
      "6831\n",
      "6832\n",
      "6833\n",
      "6834\n",
      "6835\n",
      "6836\n",
      "6837\n",
      "6838\n",
      "6839\n",
      "6840\n",
      "6841\n",
      "6842\n",
      "6843\n",
      "6844\n",
      "6845\n",
      "6846\n",
      "6847\n",
      "6848\n",
      "6849\n",
      "6850\n",
      "6851\n",
      "6852\n",
      "6853\n",
      "6854\n",
      "6855\n",
      "6856\n",
      "6857\n",
      "6858\n",
      "6859\n",
      "6860\n",
      "6861\n",
      "6862\n",
      "6863\n",
      "6864\n",
      "6865\n",
      "6866\n",
      "6867\n",
      "6868\n",
      "6869\n",
      "6870\n",
      "6871\n",
      "6872\n",
      "6873\n",
      "6874\n",
      "6875\n",
      "6876\n",
      "6877\n",
      "6878\n",
      "6879\n",
      "6880\n",
      "6881\n",
      "6882\n",
      "6883\n",
      "6884\n",
      "6885\n",
      "6886\n",
      "6887\n",
      "6888\n",
      "6889\n",
      "6890\n",
      "6891\n",
      "6892\n",
      "6893\n",
      "6894\n",
      "6895\n",
      "6896\n",
      "6897\n",
      "6898\n",
      "6899\n",
      "6900\n",
      "6901\n",
      "6902\n",
      "6903\n",
      "6904\n",
      "6905\n",
      "6906\n",
      "6907\n",
      "6908\n",
      "6909\n",
      "6910\n",
      "6911\n",
      "6912\n",
      "6913\n",
      "6914\n",
      "6915\n",
      "6916\n",
      "6917\n",
      "6918\n",
      "6919\n",
      "6920\n",
      "6921\n",
      "6922\n",
      "6923\n",
      "6924\n",
      "6925\n",
      "6926\n",
      "6927\n",
      "6928\n",
      "6929\n",
      "6930\n"
     ]
    }
   ],
   "source": [
    "mc_list = []\n",
    "count = 6783\n",
    "for link in part14:\n",
    "    mc_dict = {}\n",
    "    go_to_page(link)\n",
    "\n",
    "    source = requests.get(link)\n",
    "    page = BeautifulSoup(source.content, \"html.parser\") \n",
    "    \n",
    "    username = page.find(name='span', class_='D_qk M_lK D_pP M_lF D_ql M_lL D_qo M_lO D_qr M_lR D_qu M_lU D_qw M_lW D_iT D_rA').get_text()\n",
    "    title = page.find(name='p', class_='D_qk M_lK D_pP M_lF D_ql M_lL D_qo M_lO D_qr M_lR D_qu M_lU D_qw M_lW D_iH D_r_').get_text()\n",
    "    price = page.find(name='p',class_='D_qk M_lK D_pP M_lF D_ql M_lL D_qo M_lO D_qr M_lR D_qu M_lU D_qx M_lX D_abU D_r_').get_text()\n",
    "    \n",
    "    desc = page.find(name='p',class_='D_qk M_lK D_pP M_lF D_ql M_lL D_qn M_lN D_qr M_lR D_qu M_lU D_qw M_lW D_aaI M_Nk D_aaJ M_Nl D_rA')\n",
    "    if desc != None:\n",
    "        description = re.sub(r'\\r\\n','', desc.get_text())\n",
    "    elif desc == None:\n",
    "        description = 'None'\n",
    "    \n",
    "    \n",
    "    status = page.find_all(name='span',class_='D_qk M_lK D_pN M_lC D_ql M_lL D_qn M_lN D_qr M_lR D_qu M_lU D_qw M_lW D_a_U M_ahQ D_rA')        \n",
    "    condition = status[0].get_text()\n",
    "    deal_option = status[1].get_text()\n",
    "    location = status[2].get_text()\n",
    "    time_posted = status[3].get_text()\n",
    "    make = status[4].get_text()\n",
    "    body = status[5].get_text()\n",
    "\n",
    "    # Storing data into dictionary\n",
    "    mc_dict['username'] = username\n",
    "    mc_dict['title'] = title\n",
    "    mc_dict['price'] = price\n",
    "    mc_dict['description'] = description\n",
    "    mc_dict['condition'] = condition\n",
    "    mc_dict['deal_option'] = deal_option\n",
    "    mc_dict['location'] = location\n",
    "    mc_dict['time_posted'] = time_posted\n",
    "    mc_dict['make'] = make\n",
    "    mc_dict['body'] = body\n",
    "\n",
    "    # append the dictionary into a list \n",
    "    mc_list.append(mc_dict)\n",
    "    print(count)\n",
    "    count += 1"
   ]
  },
  {
   "cell_type": "markdown",
   "metadata": {},
   "source": [
    "Also had another close open chrome driver here incase I get an TimeOutExeception error so I dont have to scroll up."
   ]
  },
  {
   "cell_type": "code",
   "execution_count": 647,
   "metadata": {},
   "outputs": [
    {
     "name": "stderr",
     "output_type": "stream",
     "text": [
      "/var/folders/bq/1n8bgy_57l74n18m4pnvpyj00000gn/T/ipykernel_18853/2765047397.py:2: DeprecationWarning: executable_path has been deprecated, please pass in a Service object\n",
      "  driver = webdriver.Chrome(ChromeDriverManager().install())\n"
     ]
    }
   ],
   "source": [
    "driver.close()\n",
    "driver = webdriver.Chrome(ChromeDriverManager().install())"
   ]
  },
  {
   "cell_type": "code",
   "execution_count": 766,
   "metadata": {},
   "outputs": [
    {
     "data": {
      "text/plain": [
       "148"
      ]
     },
     "execution_count": 766,
     "metadata": {},
     "output_type": "execute_result"
    }
   ],
   "source": [
    "len(mc_list)"
   ]
  },
  {
   "cell_type": "code",
   "execution_count": null,
   "metadata": {},
   "outputs": [],
   "source": [
    "updated = []"
   ]
  },
  {
   "cell_type": "code",
   "execution_count": 767,
   "metadata": {},
   "outputs": [],
   "source": [
    "updated.append(mc_list)"
   ]
  },
  {
   "cell_type": "code",
   "execution_count": 768,
   "metadata": {},
   "outputs": [
    {
     "data": {
      "text/plain": [
       "14"
      ]
     },
     "execution_count": 768,
     "metadata": {},
     "output_type": "execute_result"
    }
   ],
   "source": [
    "len(updated) "
   ]
  },
  {
   "cell_type": "code",
   "execution_count": 769,
   "metadata": {},
   "outputs": [],
   "source": [
    "motorcycle_data = updated[0] + updated[1] + updated[2] + updated[3] + updated[4] + updated[5] + updated[6] + updated[7] + updated[8] + updated[9] + updated[10] + updated[11] + updated[12] + updated[13]"
   ]
  },
  {
   "cell_type": "code",
   "execution_count": 770,
   "metadata": {},
   "outputs": [
    {
     "data": {
      "text/plain": [
       "6931"
      ]
     },
     "execution_count": 770,
     "metadata": {},
     "output_type": "execute_result"
    }
   ],
   "source": [
    "len(motorcycle_data)"
   ]
  },
  {
   "attachments": {},
   "cell_type": "markdown",
   "metadata": {},
   "source": [
    "Closing the chrome when I have all the items collected."
   ]
  },
  {
   "cell_type": "code",
   "execution_count": 771,
   "metadata": {},
   "outputs": [],
   "source": [
    "driver.close()"
   ]
  },
  {
   "attachments": {},
   "cell_type": "markdown",
   "metadata": {},
   "source": [
    "Creating the dataframe."
   ]
  },
  {
   "cell_type": "code",
   "execution_count": null,
   "metadata": {},
   "outputs": [],
   "source": [
    "mc_df=pd.DataFrame(motorcycle_data)"
   ]
  },
  {
   "cell_type": "code",
   "execution_count": 775,
   "metadata": {},
   "outputs": [
    {
     "data": {
      "text/html": [
       "<div>\n",
       "<style scoped>\n",
       "    .dataframe tbody tr th:only-of-type {\n",
       "        vertical-align: middle;\n",
       "    }\n",
       "\n",
       "    .dataframe tbody tr th {\n",
       "        vertical-align: top;\n",
       "    }\n",
       "\n",
       "    .dataframe thead th {\n",
       "        text-align: right;\n",
       "    }\n",
       "</style>\n",
       "<table border=\"1\" class=\"dataframe\">\n",
       "  <thead>\n",
       "    <tr style=\"text-align: right;\">\n",
       "      <th></th>\n",
       "      <th>username</th>\n",
       "      <th>title</th>\n",
       "      <th>price</th>\n",
       "      <th>description</th>\n",
       "      <th>condition</th>\n",
       "      <th>deal_option</th>\n",
       "      <th>location</th>\n",
       "      <th>time_posted</th>\n",
       "      <th>make</th>\n",
       "      <th>body</th>\n",
       "    </tr>\n",
       "  </thead>\n",
       "  <tbody>\n",
       "    <tr>\n",
       "      <th>0</th>\n",
       "      <td>@niethnil</td>\n",
       "      <td>Honda CBF190X 01/2029 Low mileage!</td>\n",
       "      <td>S$9,400</td>\n",
       "      <td>Honda CBF190X Fighthawk.COE till 01/2029.Milea...</td>\n",
       "      <td>Used</td>\n",
       "      <td>Meetup</td>\n",
       "      <td>Lakeside MRT Station (EW26)</td>\n",
       "      <td>23 hours ago</td>\n",
       "      <td>Honda</td>\n",
       "      <td>Adventure</td>\n",
       "    </tr>\n",
       "    <tr>\n",
       "      <th>1</th>\n",
       "      <td>@Motovision</td>\n",
       "      <td>✨ HONDA CB190X COE May 2029</td>\n",
       "      <td>S$9,800</td>\n",
       "      <td>PRE-OWNED HONDA CB190X TOURISM\\n✨ COE TILL MAY...</td>\n",
       "      <td>Used</td>\n",
       "      <td>Meetup</td>\n",
       "      <td>Blk 1007 #01-05 Bukit Merah Lane 3</td>\n",
       "      <td>1 week ago</td>\n",
       "      <td>Honda</td>\n",
       "      <td>Adventure</td>\n",
       "    </tr>\n",
       "    <tr>\n",
       "      <th>2</th>\n",
       "      <td>@speedzone</td>\n",
       "      <td>Honda CB150X | CB200X | CB400X | CB500X</td>\n",
       "      <td>S$329</td>\n",
       "      <td>Been waiting for the Honda CB150X release? We ...</td>\n",
       "      <td>New</td>\n",
       "      <td>Meetup</td>\n",
       "      <td>Bartley Biz Centre</td>\n",
       "      <td>an hour ago</td>\n",
       "      <td>Honda</td>\n",
       "      <td>Adventure</td>\n",
       "    </tr>\n",
       "    <tr>\n",
       "      <th>3</th>\n",
       "      <td>@benwillok</td>\n",
       "      <td>Honda CB200X 2022 COE until Feb 2032</td>\n",
       "      <td>S$15,500</td>\n",
       "      <td>2022 Honda CB200X ABS For Sale.\\nIn Perfect Co...</td>\n",
       "      <td>Used</td>\n",
       "      <td>Meetup</td>\n",
       "      <td>Lakeside MRT Station (EW26)</td>\n",
       "      <td>4 weeks ago</td>\n",
       "      <td>Honda</td>\n",
       "      <td>Adventure</td>\n",
       "    </tr>\n",
       "    <tr>\n",
       "      <th>4</th>\n",
       "      <td>@lazeyyy</td>\n",
       "      <td>spark 135</td>\n",
       "      <td>S$4,500</td>\n",
       "      <td>wtt krr\\npm for details\\ncoe 2029 renewable</td>\n",
       "      <td>Used</td>\n",
       "      <td>Meetup</td>\n",
       "      <td>Parliament House</td>\n",
       "      <td>2 days ago</td>\n",
       "      <td>Yamaha</td>\n",
       "      <td>Adventure</td>\n",
       "    </tr>\n",
       "    <tr>\n",
       "      <th>...</th>\n",
       "      <td>...</td>\n",
       "      <td>...</td>\n",
       "      <td>...</td>\n",
       "      <td>...</td>\n",
       "      <td>...</td>\n",
       "      <td>...</td>\n",
       "      <td>...</td>\n",
       "      <td>...</td>\n",
       "      <td>...</td>\n",
       "      <td>...</td>\n",
       "    </tr>\n",
       "    <tr>\n",
       "      <th>6926</th>\n",
       "      <td>@orizonmotorcycles</td>\n",
       "      <td>Motorcycle Financing</td>\n",
       "      <td>S$2</td>\n",
       "      <td>Financing Solution.We provide bike refinancing...</td>\n",
       "      <td>Used</td>\n",
       "      <td>Meetup</td>\n",
       "      <td>Lor 28 Geylang</td>\n",
       "      <td>1 week ago</td>\n",
       "      <td>Others</td>\n",
       "      <td>Other</td>\n",
       "    </tr>\n",
       "    <tr>\n",
       "      <th>6927</th>\n",
       "      <td>@puretrade</td>\n",
       "      <td>Trade your bike for cash</td>\n",
       "      <td>S$3,500</td>\n",
       "      <td>We will buy and  export your used bike for ext...</td>\n",
       "      <td>Used</td>\n",
       "      <td>Meetup</td>\n",
       "      <td>Singapore / Singapura / 新加坡 / சிங்கப்பூர் (Sin...</td>\n",
       "      <td>3 weeks ago</td>\n",
       "      <td>Others</td>\n",
       "      <td>Other</td>\n",
       "    </tr>\n",
       "    <tr>\n",
       "      <th>6928</th>\n",
       "      <td>@kmplusmotor</td>\n",
       "      <td>YAMAHA XSR 900 2022 BRAND NEW AGENT UNIT</td>\n",
       "      <td>S$500</td>\n",
       "      <td>Looking to buy a New Bike ?Look no further. Yo...</td>\n",
       "      <td>New</td>\n",
       "      <td>Meetup</td>\n",
       "      <td>E9 Premium</td>\n",
       "      <td>1 week ago</td>\n",
       "      <td>Yamaha</td>\n",
       "      <td>Other</td>\n",
       "    </tr>\n",
       "    <tr>\n",
       "      <th>6929</th>\n",
       "      <td>@gpmotoring</td>\n",
       "      <td>MOTORCYCLE REFINANCE / RELOAN</td>\n",
       "      <td>S$168,888</td>\n",
       "      <td>We are Here to Provide Refinance for BikesHave...</td>\n",
       "      <td>Used</td>\n",
       "      <td>Meetup</td>\n",
       "      <td>GP Motoring Pte Ltd</td>\n",
       "      <td>2 weeks ago</td>\n",
       "      <td>Others</td>\n",
       "      <td>Other</td>\n",
       "    </tr>\n",
       "    <tr>\n",
       "      <th>6930</th>\n",
       "      <td>@gpmotoring</td>\n",
       "      <td>BRAND NEW YAMAHA XSR 900 2022</td>\n",
       "      <td>S$500</td>\n",
       "      <td>✔ Full loan available. ✔ 0% interest credit ca...</td>\n",
       "      <td>New</td>\n",
       "      <td>Meetup</td>\n",
       "      <td>GP Motoring Pte Ltd</td>\n",
       "      <td>2 weeks ago</td>\n",
       "      <td>Yamaha</td>\n",
       "      <td>Other</td>\n",
       "    </tr>\n",
       "  </tbody>\n",
       "</table>\n",
       "<p>6931 rows × 10 columns</p>\n",
       "</div>"
      ],
      "text/plain": [
       "                username                                     title      price  \\\n",
       "0              @niethnil        Honda CBF190X 01/2029 Low mileage!    S$9,400   \n",
       "1            @Motovision               ✨ HONDA CB190X COE May 2029    S$9,800   \n",
       "2             @speedzone   Honda CB150X | CB200X | CB400X | CB500X      S$329   \n",
       "3             @benwillok      Honda CB200X 2022 COE until Feb 2032   S$15,500   \n",
       "4               @lazeyyy                                 spark 135    S$4,500   \n",
       "...                  ...                                       ...        ...   \n",
       "6926  @orizonmotorcycles                     Motorcycle Financing         S$2   \n",
       "6927          @puretrade                  Trade your bike for cash    S$3,500   \n",
       "6928        @kmplusmotor  YAMAHA XSR 900 2022 BRAND NEW AGENT UNIT      S$500   \n",
       "6929         @gpmotoring             MOTORCYCLE REFINANCE / RELOAN  S$168,888   \n",
       "6930         @gpmotoring             BRAND NEW YAMAHA XSR 900 2022      S$500   \n",
       "\n",
       "                                            description condition deal_option  \\\n",
       "0     Honda CBF190X Fighthawk.COE till 01/2029.Milea...      Used      Meetup   \n",
       "1     PRE-OWNED HONDA CB190X TOURISM\\n✨ COE TILL MAY...      Used      Meetup   \n",
       "2     Been waiting for the Honda CB150X release? We ...       New      Meetup   \n",
       "3     2022 Honda CB200X ABS For Sale.\\nIn Perfect Co...      Used      Meetup   \n",
       "4           wtt krr\\npm for details\\ncoe 2029 renewable      Used      Meetup   \n",
       "...                                                 ...       ...         ...   \n",
       "6926  Financing Solution.We provide bike refinancing...      Used      Meetup   \n",
       "6927  We will buy and  export your used bike for ext...      Used      Meetup   \n",
       "6928  Looking to buy a New Bike ?Look no further. Yo...       New      Meetup   \n",
       "6929  We are Here to Provide Refinance for BikesHave...      Used      Meetup   \n",
       "6930  ✔ Full loan available. ✔ 0% interest credit ca...       New      Meetup   \n",
       "\n",
       "                                               location   time_posted    make  \\\n",
       "0                           Lakeside MRT Station (EW26)  23 hours ago   Honda   \n",
       "1                    Blk 1007 #01-05 Bukit Merah Lane 3    1 week ago   Honda   \n",
       "2                                    Bartley Biz Centre   an hour ago   Honda   \n",
       "3                           Lakeside MRT Station (EW26)   4 weeks ago   Honda   \n",
       "4                                      Parliament House    2 days ago  Yamaha   \n",
       "...                                                 ...           ...     ...   \n",
       "6926                                     Lor 28 Geylang    1 week ago  Others   \n",
       "6927  Singapore / Singapura / 新加坡 / சிங்கப்பூர் (Sin...   3 weeks ago  Others   \n",
       "6928                                         E9 Premium    1 week ago  Yamaha   \n",
       "6929                                GP Motoring Pte Ltd   2 weeks ago  Others   \n",
       "6930                                GP Motoring Pte Ltd   2 weeks ago  Yamaha   \n",
       "\n",
       "           body  \n",
       "0     Adventure  \n",
       "1     Adventure  \n",
       "2     Adventure  \n",
       "3     Adventure  \n",
       "4     Adventure  \n",
       "...         ...  \n",
       "6926      Other  \n",
       "6927      Other  \n",
       "6928      Other  \n",
       "6929      Other  \n",
       "6930      Other  \n",
       "\n",
       "[6931 rows x 10 columns]"
      ]
     },
     "execution_count": 775,
     "metadata": {},
     "output_type": "execute_result"
    }
   ],
   "source": [
    "mc_df"
   ]
  },
  {
   "cell_type": "code",
   "execution_count": 776,
   "metadata": {},
   "outputs": [],
   "source": [
    "mc_df.to_csv('Supporting_Data_Nurul Liyana(6).csv')"
   ]
  },
  {
   "attachments": {},
   "cell_type": "markdown",
   "metadata": {},
   "source": [
    "Saving the dataframe\n"
   ]
  },
  {
   "attachments": {},
   "cell_type": "markdown",
   "metadata": {},
   "source": [
    "### That's all for Scrapping, moving to the next notebook for Data Cleaning, Project_Script_DC_Nurul Liyana"
   ]
  },
  {
   "cell_type": "markdown",
   "metadata": {},
   "source": []
  }
 ],
 "metadata": {
  "kernelspec": {
   "display_name": "Python 3.9.13 ('lesson1')",
   "language": "python",
   "name": "python3"
  },
  "language_info": {
   "codemirror_mode": {
    "name": "ipython",
    "version": 3
   },
   "file_extension": ".py",
   "mimetype": "text/x-python",
   "name": "python",
   "nbconvert_exporter": "python",
   "pygments_lexer": "ipython3",
   "version": "3.9.15"
  },
  "orig_nbformat": 4,
  "vscode": {
   "interpreter": {
    "hash": "cd4a5bd526802f0295f78d9f3bea3a6344e1095385f660122111d21c3d1e3528"
   }
  }
 },
 "nbformat": 4,
 "nbformat_minor": 2
}
